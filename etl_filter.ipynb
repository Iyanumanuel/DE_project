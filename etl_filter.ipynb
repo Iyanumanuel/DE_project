{
    "metadata": {
        "kernelspec": {
            "name": "python3",
            "display_name": "Python 3",
            "language": "python"
        },
        "language_info": {
            "name": "python",
            "version": "3.6.6",
            "mimetype": "text/x-python",
            "codemirror_mode": {
                "name": "ipython",
                "version": 3
            },
            "pygments_lexer": "ipython3",
            "nbconvert_exporter": "python",
            "file_extension": ".py"
        },
        "extensions": {
            "azuredatastudio": {
                "version": 1,
                "views": []
            }
        }
    },
    "nbformat_minor": 2,
    "nbformat": 4,
    "cells": [
        {
            "cell_type": "code",
            "source": [
                "import pandas as pd\r\n",
                "import json\r\n",
                ""
            ],
            "metadata": {
                "azdata_cell_guid": "db0d6eed-aea5-4aa5-8fe3-28f31a96ebac"
            },
            "outputs": [],
            "execution_count": 49
        },
        {
            "cell_type": "code",
            "source": [
                "url = \"https://data.cityofchicago.org/resource/ijzp-q8t2.json\""
            ],
            "metadata": {
                "azdata_cell_guid": "b27caaf2-783d-406c-95ef-e479602ed127"
            },
            "outputs": [],
            "execution_count": 50
        },
        {
            "cell_type": "code",
            "source": [
                "json_data = pd.read_json(url)\r\n",
                "json_data.head(2)"
            ],
            "metadata": {
                "azdata_cell_guid": "5021a5e9-5720-4baf-a485-25202fa1cd28"
            },
            "outputs": [
{
    "data": {
        "text/plain": "         id case_number                date                 block  iucr  \\\n0  12485372    JE377024 2021-09-14 23:56:00  001XX N PARKSIDE AVE  0265   \n1  12482818    JE373979 2021-09-14 23:50:00       001XX W 71ST ST  1812   \n\n              primary_type                            description  \\\n0  CRIMINAL SEXUAL ASSAULT                     AGGRAVATED - OTHER   \n1                NARCOTICS  POSSESS - CANNABIS MORE THAN 30 GRAMS   \n\n  location_description  arrest  domestic  ...  longitude  \\\n0                ALLEY   False     False  ... -87.766608   \n1               STREET    True     False  ... -87.629072   \n\n                                            location  \\\n0  {'latitude': '41.88314073', 'longitude': '-87....   \n1  {'latitude': '41.765446324', 'longitude': '-87...   \n\n   :@computed_region_awaf_s7ux  :@computed_region_6mkv_f3dw  \\\n0                         52.0                      22216.0   \n1                         31.0                      21559.0   \n\n  :@computed_region_vrxf_vc4k  :@computed_region_bdys_3d7i  \\\n0                        26.0                        618.0   \n1                        67.0                        494.0   \n\n   :@computed_region_43wa_7qmu  :@computed_region_rpca_8um6  \\\n0                          7.0                         32.0   \n1                         32.0                         11.0   \n\n  :@computed_region_d9mm_jgwp  :@computed_region_d3ds_rm58  \n0                        25.0                         85.0  \n1                        17.0                        210.0  \n\n[2 rows x 30 columns]",
        "text/html": "<div>\n<style scoped>\n    .dataframe tbody tr th:only-of-type {\n        vertical-align: middle;\n    }\n\n    .dataframe tbody tr th {\n        vertical-align: top;\n    }\n\n    .dataframe thead th {\n        text-align: right;\n    }\n</style>\n<table border=\"1\" class=\"dataframe\">\n  <thead>\n    <tr style=\"text-align: right;\">\n      <th></th>\n      <th>id</th>\n      <th>case_number</th>\n      <th>date</th>\n      <th>block</th>\n      <th>iucr</th>\n      <th>primary_type</th>\n      <th>description</th>\n      <th>location_description</th>\n      <th>arrest</th>\n      <th>domestic</th>\n      <th>...</th>\n      <th>longitude</th>\n      <th>location</th>\n      <th>:@computed_region_awaf_s7ux</th>\n      <th>:@computed_region_6mkv_f3dw</th>\n      <th>:@computed_region_vrxf_vc4k</th>\n      <th>:@computed_region_bdys_3d7i</th>\n      <th>:@computed_region_43wa_7qmu</th>\n      <th>:@computed_region_rpca_8um6</th>\n      <th>:@computed_region_d9mm_jgwp</th>\n      <th>:@computed_region_d3ds_rm58</th>\n    </tr>\n  </thead>\n  <tbody>\n    <tr>\n      <th>0</th>\n      <td>12485372</td>\n      <td>JE377024</td>\n      <td>2021-09-14 23:56:00</td>\n      <td>001XX N PARKSIDE AVE</td>\n      <td>0265</td>\n      <td>CRIMINAL SEXUAL ASSAULT</td>\n      <td>AGGRAVATED - OTHER</td>\n      <td>ALLEY</td>\n      <td>False</td>\n      <td>False</td>\n      <td>...</td>\n      <td>-87.766608</td>\n      <td>{'latitude': '41.88314073', 'longitude': '-87....</td>\n      <td>52.0</td>\n      <td>22216.0</td>\n      <td>26.0</td>\n      <td>618.0</td>\n      <td>7.0</td>\n      <td>32.0</td>\n      <td>25.0</td>\n      <td>85.0</td>\n    </tr>\n    <tr>\n      <th>1</th>\n      <td>12482818</td>\n      <td>JE373979</td>\n      <td>2021-09-14 23:50:00</td>\n      <td>001XX W 71ST ST</td>\n      <td>1812</td>\n      <td>NARCOTICS</td>\n      <td>POSSESS - CANNABIS MORE THAN 30 GRAMS</td>\n      <td>STREET</td>\n      <td>True</td>\n      <td>False</td>\n      <td>...</td>\n      <td>-87.629072</td>\n      <td>{'latitude': '41.765446324', 'longitude': '-87...</td>\n      <td>31.0</td>\n      <td>21559.0</td>\n      <td>67.0</td>\n      <td>494.0</td>\n      <td>32.0</td>\n      <td>11.0</td>\n      <td>17.0</td>\n      <td>210.0</td>\n    </tr>\n  </tbody>\n</table>\n<p>2 rows × 30 columns</p>\n</div>"
    },
    "metadata": {},
    "execution_count": 51,
    "output_type": "execute_result"
}
],
            "execution_count": 51
        },
        {
            "cell_type": "code",
            "source": [
                "json_data.describe()"
            ],
            "metadata": {
                "azdata_cell_guid": "d4fd09e0-c601-45d0-92e5-e779f1df9aa4"
            },
            "outputs": [
{
    "data": {
        "text/plain": "                 id         beat     district         ward  community_area  \\\ncount  1.000000e+03  1000.000000  1000.000000  1000.000000      1000.00000   \nmean   1.242029e+07  1143.579000    11.203000    22.382000        37.54400   \nstd    8.790282e+05   693.605333     6.932666    14.136333        21.93849   \nmin    2.628100e+04   111.000000     1.000000     1.000000         1.00000   \n25%    1.248175e+07   611.000000     6.000000     9.000000        23.00000   \n50%    1.248236e+07  1022.000000    10.000000    21.000000        32.00000   \n75%    1.248285e+07  1723.000000    17.000000    34.000000        56.00000   \nmax    1.248899e+07  2535.000000    25.000000    50.000000        77.00000   \n\n       x_coordinate  y_coordinate    year    latitude   longitude  \\\ncount  9.830000e+02  9.830000e+02  1000.0  983.000000  983.000000   \nmean   1.165630e+06  1.884642e+06  2021.0   41.839031  -87.667761   \nstd    1.687162e+04  3.248038e+04     0.0    0.089337    0.061384   \nmin    1.100658e+06  1.814512e+06  2021.0   41.645796  -87.905227   \n25%    1.153920e+06  1.857834e+06  2021.0   41.765005  -87.710229   \n50%    1.167557e+06  1.890521e+06  2021.0   41.854939  -87.660802   \n75%    1.176628e+06  1.908573e+06  2021.0   41.904998  -87.627477   \nmax    1.204544e+06  1.950365e+06  2021.0   42.019529  -87.527258   \n\n       :@computed_region_awaf_s7ux  :@computed_region_6mkv_f3dw  \\\ncount                   982.000000                   983.000000   \nmean                     28.234216                 19071.613428   \nstd                      14.940525                  5708.532513   \nmin                       1.000000                  4299.000000   \n25%                      16.000000                 21184.000000   \n50%                      30.000000                 21560.000000   \n75%                      41.000000                 22216.000000   \nmax                      53.000000                 22620.000000   \n\n       :@computed_region_vrxf_vc4k  :@computed_region_bdys_3d7i  \\\ncount                   982.000000                    981.00000   \nmean                     39.675153                    386.27421   \nstd                      19.729914                    239.70503   \nmin                       1.000000                      1.00000   \n25%                      26.000000                    168.00000   \n50%                      37.000000                    399.00000   \n75%                      58.000000                    587.00000   \nmax                      76.000000                    801.00000   \n\n       :@computed_region_43wa_7qmu  :@computed_region_rpca_8um6  \\\ncount                   982.000000                   982.000000   \nmean                     25.965377                    31.705703   \nstd                      14.310907                    18.889991   \nmin                       1.000000                     1.000000   \n25%                      13.000000                    16.000000   \n50%                      26.500000                    30.000000   \n75%                      37.000000                    49.750000   \nmax                      50.000000                    61.000000   \n\n       :@computed_region_d9mm_jgwp  :@computed_region_d3ds_rm58  \ncount                   982.000000                   982.000000  \nmean                     15.047862                   151.798371  \nstd                       6.284842                    78.931835  \nmin                       1.000000                     4.000000  \n25%                      10.000000                    86.000000  \n50%                      16.000000                   153.500000  \n75%                      20.000000                   225.000000  \nmax                      25.000000                   277.000000  ",
        "text/html": "<div>\n<style scoped>\n    .dataframe tbody tr th:only-of-type {\n        vertical-align: middle;\n    }\n\n    .dataframe tbody tr th {\n        vertical-align: top;\n    }\n\n    .dataframe thead th {\n        text-align: right;\n    }\n</style>\n<table border=\"1\" class=\"dataframe\">\n  <thead>\n    <tr style=\"text-align: right;\">\n      <th></th>\n      <th>id</th>\n      <th>beat</th>\n      <th>district</th>\n      <th>ward</th>\n      <th>community_area</th>\n      <th>x_coordinate</th>\n      <th>y_coordinate</th>\n      <th>year</th>\n      <th>latitude</th>\n      <th>longitude</th>\n      <th>:@computed_region_awaf_s7ux</th>\n      <th>:@computed_region_6mkv_f3dw</th>\n      <th>:@computed_region_vrxf_vc4k</th>\n      <th>:@computed_region_bdys_3d7i</th>\n      <th>:@computed_region_43wa_7qmu</th>\n      <th>:@computed_region_rpca_8um6</th>\n      <th>:@computed_region_d9mm_jgwp</th>\n      <th>:@computed_region_d3ds_rm58</th>\n    </tr>\n  </thead>\n  <tbody>\n    <tr>\n      <th>count</th>\n      <td>1.000000e+03</td>\n      <td>1000.000000</td>\n      <td>1000.000000</td>\n      <td>1000.000000</td>\n      <td>1000.00000</td>\n      <td>9.830000e+02</td>\n      <td>9.830000e+02</td>\n      <td>1000.0</td>\n      <td>983.000000</td>\n      <td>983.000000</td>\n      <td>982.000000</td>\n      <td>983.000000</td>\n      <td>982.000000</td>\n      <td>981.00000</td>\n      <td>982.000000</td>\n      <td>982.000000</td>\n      <td>982.000000</td>\n      <td>982.000000</td>\n    </tr>\n    <tr>\n      <th>mean</th>\n      <td>1.242029e+07</td>\n      <td>1143.579000</td>\n      <td>11.203000</td>\n      <td>22.382000</td>\n      <td>37.54400</td>\n      <td>1.165630e+06</td>\n      <td>1.884642e+06</td>\n      <td>2021.0</td>\n      <td>41.839031</td>\n      <td>-87.667761</td>\n      <td>28.234216</td>\n      <td>19071.613428</td>\n      <td>39.675153</td>\n      <td>386.27421</td>\n      <td>25.965377</td>\n      <td>31.705703</td>\n      <td>15.047862</td>\n      <td>151.798371</td>\n    </tr>\n    <tr>\n      <th>std</th>\n      <td>8.790282e+05</td>\n      <td>693.605333</td>\n      <td>6.932666</td>\n      <td>14.136333</td>\n      <td>21.93849</td>\n      <td>1.687162e+04</td>\n      <td>3.248038e+04</td>\n      <td>0.0</td>\n      <td>0.089337</td>\n      <td>0.061384</td>\n      <td>14.940525</td>\n      <td>5708.532513</td>\n      <td>19.729914</td>\n      <td>239.70503</td>\n      <td>14.310907</td>\n      <td>18.889991</td>\n      <td>6.284842</td>\n      <td>78.931835</td>\n    </tr>\n    <tr>\n      <th>min</th>\n      <td>2.628100e+04</td>\n      <td>111.000000</td>\n      <td>1.000000</td>\n      <td>1.000000</td>\n      <td>1.00000</td>\n      <td>1.100658e+06</td>\n      <td>1.814512e+06</td>\n      <td>2021.0</td>\n      <td>41.645796</td>\n      <td>-87.905227</td>\n      <td>1.000000</td>\n      <td>4299.000000</td>\n      <td>1.000000</td>\n      <td>1.00000</td>\n      <td>1.000000</td>\n      <td>1.000000</td>\n      <td>1.000000</td>\n      <td>4.000000</td>\n    </tr>\n    <tr>\n      <th>25%</th>\n      <td>1.248175e+07</td>\n      <td>611.000000</td>\n      <td>6.000000</td>\n      <td>9.000000</td>\n      <td>23.00000</td>\n      <td>1.153920e+06</td>\n      <td>1.857834e+06</td>\n      <td>2021.0</td>\n      <td>41.765005</td>\n      <td>-87.710229</td>\n      <td>16.000000</td>\n      <td>21184.000000</td>\n      <td>26.000000</td>\n      <td>168.00000</td>\n      <td>13.000000</td>\n      <td>16.000000</td>\n      <td>10.000000</td>\n      <td>86.000000</td>\n    </tr>\n    <tr>\n      <th>50%</th>\n      <td>1.248236e+07</td>\n      <td>1022.000000</td>\n      <td>10.000000</td>\n      <td>21.000000</td>\n      <td>32.00000</td>\n      <td>1.167557e+06</td>\n      <td>1.890521e+06</td>\n      <td>2021.0</td>\n      <td>41.854939</td>\n      <td>-87.660802</td>\n      <td>30.000000</td>\n      <td>21560.000000</td>\n      <td>37.000000</td>\n      <td>399.00000</td>\n      <td>26.500000</td>\n      <td>30.000000</td>\n      <td>16.000000</td>\n      <td>153.500000</td>\n    </tr>\n    <tr>\n      <th>75%</th>\n      <td>1.248285e+07</td>\n      <td>1723.000000</td>\n      <td>17.000000</td>\n      <td>34.000000</td>\n      <td>56.00000</td>\n      <td>1.176628e+06</td>\n      <td>1.908573e+06</td>\n      <td>2021.0</td>\n      <td>41.904998</td>\n      <td>-87.627477</td>\n      <td>41.000000</td>\n      <td>22216.000000</td>\n      <td>58.000000</td>\n      <td>587.00000</td>\n      <td>37.000000</td>\n      <td>49.750000</td>\n      <td>20.000000</td>\n      <td>225.000000</td>\n    </tr>\n    <tr>\n      <th>max</th>\n      <td>1.248899e+07</td>\n      <td>2535.000000</td>\n      <td>25.000000</td>\n      <td>50.000000</td>\n      <td>77.00000</td>\n      <td>1.204544e+06</td>\n      <td>1.950365e+06</td>\n      <td>2021.0</td>\n      <td>42.019529</td>\n      <td>-87.527258</td>\n      <td>53.000000</td>\n      <td>22620.000000</td>\n      <td>76.000000</td>\n      <td>801.00000</td>\n      <td>50.000000</td>\n      <td>61.000000</td>\n      <td>25.000000</td>\n      <td>277.000000</td>\n    </tr>\n  </tbody>\n</table>\n</div>"
    },
    "metadata": {},
    "execution_count": 52,
    "output_type": "execute_result"
}
],
            "execution_count": 52
        },
        {
            "cell_type": "code",
            "source": [
                "json_data.columns\r\n",
                ""
            ],
            "metadata": {
                "azdata_cell_guid": "612eaf27-5bb1-44d7-9acd-5c5d4c155ad0"
            },
            "outputs": [
{
    "data": {
        "text/plain": "Index(['id', 'case_number', 'date', 'block', 'iucr', 'primary_type',\n       'description', 'location_description', 'arrest', 'domestic', 'beat',\n       'district', 'ward', 'community_area', 'fbi_code', 'x_coordinate',\n       'y_coordinate', 'year', 'updated_on', 'latitude', 'longitude',\n       'location', ':@computed_region_awaf_s7ux',\n       ':@computed_region_6mkv_f3dw', ':@computed_region_vrxf_vc4k',\n       ':@computed_region_bdys_3d7i', ':@computed_region_43wa_7qmu',\n       ':@computed_region_rpca_8um6', ':@computed_region_d9mm_jgwp',\n       ':@computed_region_d3ds_rm58'],\n      dtype='object')"
    },
    "metadata": {},
    "execution_count": 53,
    "output_type": "execute_result"
}
],
            "execution_count": 53
        }
    ]
}